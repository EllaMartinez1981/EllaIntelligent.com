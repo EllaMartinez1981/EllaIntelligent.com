{
 "cells": [
  {
   "cell_type": "markdown",
   "id": "c87709e4-2572-4867-adfb-355b0199d994",
   "metadata": {},
   "source": [
    "# A/B Tester"
   ]
  },
  {
   "cell_type": "code",
   "execution_count": 18,
   "id": "67e3e3cd-3027-49a6-87b0-45aa45cc1aa5",
   "metadata": {},
   "outputs": [],
   "source": [
    "import math\n",
    "import numpy as np\n",
    "import pandas as pd\n",
    "from scipy.stats import norm"
   ]
  },
  {
   "cell_type": "markdown",
   "id": "c8c4b934-3513-4ccf-9f24-52d89f5f545d",
   "metadata": {},
   "source": [
    "## Proportions minimum sample size"
   ]
  },
  {
   "cell_type": "markdown",
   "id": "c3469f36-f217-4cb3-b485-63ff7d9818ba",
   "metadata": {},
   "source": [
    "## Means minimum sample size"
   ]
  },
  {
   "cell_type": "code",
   "execution_count": 76,
   "id": "d74aae74-3aaf-4f6a-a387-67d85b3b9055",
   "metadata": {},
   "outputs": [],
   "source": [
    "def alpha(confidence_level):\n",
    "    return 1 - confidence_level"
   ]
  },
  {
   "cell_type": "code",
   "execution_count": 77,
   "id": "ad7d31b2-eb2b-4519-8e3d-31a9b9035f5b",
   "metadata": {},
   "outputs": [],
   "source": [
    "def beta(power):\n",
    "    return 1 - power"
   ]
  },
  {
   "cell_type": "code",
   "execution_count": 78,
   "id": "b69a565b-49fc-4a1b-8411-9e6fd4b0cc33",
   "metadata": {},
   "outputs": [],
   "source": [
    "df = pd.read_csv(\"sample_datasets/dataset_2.csv\")"
   ]
  },
  {
   "cell_type": "code",
   "execution_count": 79,
   "id": "314ad441-929a-46af-8dcd-af9193143c5a",
   "metadata": {},
   "outputs": [],
   "source": [
    "sensitivity = 0.1\n",
    "alternative = \"two-sided\"\n",
    "confidence_level = 0.95\n",
    "power = 0.8"
   ]
  },
  {
   "cell_type": "code",
   "execution_count": 80,
   "id": "b3ea08a3-ebee-4072-9195-2b5da2824cff",
   "metadata": {},
   "outputs": [
    {
     "name": "stdout",
     "output_type": "stream",
     "text": [
      "0.050000000000000044\n",
      "0.19999999999999996\n"
     ]
    }
   ],
   "source": [
    "alpha = alpha(confidence_level)\n",
    "beta = beta(power)\n",
    "\n",
    "print(alpha)\n",
    "print(beta)"
   ]
  },
  {
   "cell_type": "code",
   "execution_count": 81,
   "id": "3613bef0-1e66-48e5-95fe-e6aaf41b41fa",
   "metadata": {},
   "outputs": [
    {
     "name": "stdout",
     "output_type": "stream",
     "text": [
      "8000\n",
      "4000\n",
      "12000\n"
     ]
    }
   ],
   "source": [
    "control_users = df[df[\"group\"] == \"control\"].shape[0]\n",
    "treatment_users = df[df[\"group\"] == \"treatment\"].shape[0]\n",
    "# treatment_users = 150\n",
    "total_users = control_users + treatment_users\n",
    "\n",
    "print(control_users)\n",
    "print(treatment_users)\n",
    "print(total_users)"
   ]
  },
  {
   "cell_type": "code",
   "execution_count": 82,
   "id": "c19d92ff-6e7d-4379-a373-b70ce1bac12b",
   "metadata": {},
   "outputs": [
    {
     "name": "stdout",
     "output_type": "stream",
     "text": [
      "147.949100626016\n"
     ]
    }
   ],
   "source": [
    "std = df[df[\"group\"] == \"control\"][\"measurement\"].std()\n",
    "\n",
    "print(std)"
   ]
  },
  {
   "cell_type": "code",
   "execution_count": 83,
   "id": "855c83e5-49e8-4c6b-b4dd-1ed00642ac5c",
   "metadata": {},
   "outputs": [
    {
     "name": "stdout",
     "output_type": "stream",
     "text": [
      "0.6666666666666666\n",
      "0.3333333333333333\n",
      "1.96\n",
      "0.8416\n",
      "4.5\n",
      "7.849\n"
     ]
    }
   ],
   "source": [
    "q0 = control_users / total_users\n",
    "q1 = treatment_users / total_users\n",
    "z_alpha = round(norm.ppf(1 - alpha / 2), 4)\n",
    "z_beta = round(norm.ppf(1 - beta), 4)\n",
    "a = round(1 / q1 + 1 / q0, 4)\n",
    "b = round(pow(z_alpha + z_beta, 2), 4)\n",
    "\n",
    "print(q0)\n",
    "print(q1)\n",
    "print(z_alpha)\n",
    "print(z_beta)\n",
    "print(a)\n",
    "print(b)"
   ]
  },
  {
   "cell_type": "code",
   "execution_count": 84,
   "id": "f98d0e70-8108-4458-a17e-0da7b4719810",
   "metadata": {},
   "outputs": [
    {
     "data": {
      "text/plain": [
       "35.3205"
      ]
     },
     "execution_count": 84,
     "metadata": {},
     "output_type": "execute_result"
    }
   ],
   "source": [
    "a*b"
   ]
  },
  {
   "cell_type": "code",
   "execution_count": 85,
   "id": "4ac38c33-7f0b-418c-bceb-01d974383af8",
   "metadata": {},
   "outputs": [
    {
     "data": {
      "text/plain": [
       "0.0006759081304101932"
      ]
     },
     "execution_count": 85,
     "metadata": {},
     "output_type": "execute_result"
    }
   ],
   "source": [
    "sensitivity / std"
   ]
  },
  {
   "cell_type": "code",
   "execution_count": 86,
   "id": "cb233130-9331-467e-bf5a-cc145cf30223",
   "metadata": {},
   "outputs": [
    {
     "data": {
      "text/plain": [
       "4.5685180075460274e-07"
      ]
     },
     "execution_count": 86,
     "metadata": {},
     "output_type": "execute_result"
    }
   ],
   "source": [
    "pow(sensitivity / std, 2)"
   ]
  },
  {
   "cell_type": "code",
   "execution_count": 87,
   "id": "ffb7be7b-fde0-46cd-aeef-79298e1ae5cc",
   "metadata": {},
   "outputs": [
    {
     "data": {
      "text/plain": [
       "97840.72022160665"
      ]
     },
     "execution_count": 87,
     "metadata": {},
     "output_type": "execute_result"
    }
   ],
   "source": [
    "(a*b) / pow(0.019, 2)"
   ]
  },
  {
   "cell_type": "code",
   "execution_count": 88,
   "id": "2327ae30-effc-4c8f-8868-5a2f91470082",
   "metadata": {},
   "outputs": [
    {
     "name": "stdout",
     "output_type": "stream",
     "text": [
      "Minimum sample for the control group: 51541879\n",
      "Minimum sample for the treatment group: 25770940\n",
      "Total minimum sample for the experiment: 77312819\n"
     ]
    }
   ],
   "source": [
    "total_sample = math.ceil(a * b / pow(sensitivity / std, 2))\n",
    "control_sample = math.ceil(total_sample * q0)\n",
    "treatment_sample = math.ceil(total_sample * q1)\n",
    "\n",
    "print(f\"Minimum sample for the control group: {control_sample}\")\n",
    "print(f\"Minimum sample for the treatment group: {treatment_sample}\")\n",
    "print(f\"Total minimum sample for the experiment: {control_sample + treatment_sample}\")"
   ]
  },
  {
   "cell_type": "markdown",
   "id": "cc865163-eca5-450a-9051-525e2b966b0a",
   "metadata": {},
   "source": [
    "## Proportions statistical significance"
   ]
  },
  {
   "cell_type": "markdown",
   "id": "ca68b0b9-cafa-4340-88ec-5898d4d0e7c5",
   "metadata": {},
   "source": [
    "## Means statistical significance"
   ]
  },
  {
   "cell_type": "code",
   "execution_count": null,
   "id": "3ab9bfe2-9248-4800-9320-15f9f44fe754",
   "metadata": {},
   "outputs": [],
   "source": [
    "def show_code(test, sensitivity, confidence_level, power, control_conversion, alternative):\n",
    "    code = template.render(\n",
    "        test=test,\n",
    "        control_conversion=control_conversion,\n",
    "        sensitivity=sensitivity,\n",
    "        alternative=alternative,\n",
    "        confidence_level=confidence_level,\n",
    "        power=power,\n",
    "    )"
   ]
  },
  {
   "cell_type": "code",
   "execution_count": null,
   "id": "9db201c6-1f40-461e-ba42-351c4bc0f0f5",
   "metadata": {},
   "outputs": [],
   "source": [
    "code = template.render(\n",
    "    test=test,\n",
    "    control_conversion=control_conversion,\n",
    "    sensitivity=sensitivity,\n",
    "    alternative=alternative,\n",
    "    confidence_level=confidence_level,\n",
    "    power=power,\n",
    ")\n",
    "with st.expander(\"Show the code\"):\n",
    "    st.code(code, language=\"python\")"
   ]
  },
  {
   "cell_type": "code",
   "execution_count": null,
   "id": "53aa5fac-2497-4f06-9fb7-01d73142f1e0",
   "metadata": {},
   "outputs": [],
   "source": [
    "code = template.render(\n",
    "    test=test,\n",
    "    sensitivity=sensitivity,\n",
    "    confidence_level=confidence_level,\n",
    "    power=power,\n",
    ")\n",
    "with st.expander(\"Show the code\"):\n",
    "    st.code(code, language=\"python\")"
   ]
  },
  {
   "cell_type": "markdown",
   "id": "9de7cbde-8441-4496-b58f-62a08041cb80",
   "metadata": {},
   "source": [
    "statistical significance"
   ]
  },
  {
   "cell_type": "code",
   "execution_count": null,
   "id": "f75d7508-6533-4af8-ace5-8ab1918dc772",
   "metadata": {},
   "outputs": [],
   "source": [
    "code = template.render(\n",
    "    test=test,\n",
    "    control_users=control_users,\n",
    "    treatment_users=treatment_users,\n",
    "    control_conversions=control_conversions,\n",
    "    treatment_conversions=treatment_conversions,\n",
    "    confidence_level=confidence_level,\n",
    ")\n",
    "with st.expander(\"Show the code\"):\n",
    "    st.code(code, language=\"python\")"
   ]
  },
  {
   "cell_type": "code",
   "execution_count": null,
   "id": "60c4eae8-46d0-40ac-8c3e-dcf137c4381f",
   "metadata": {},
   "outputs": [],
   "source": [
    "code = template.render(test=test, confidence_level=confidence_level)\n",
    "with st.expander(\"Show the code\"):\n",
    "    st.code(code, language=\"python\")"
   ]
  }
 ],
 "metadata": {
  "kernelspec": {
   "display_name": "Python 3 (ipykernel)",
   "language": "python",
   "name": "python3"
  },
  "language_info": {
   "codemirror_mode": {
    "name": "ipython",
    "version": 3
   },
   "file_extension": ".py",
   "mimetype": "text/x-python",
   "name": "python",
   "nbconvert_exporter": "python",
   "pygments_lexer": "ipython3",
   "version": "3.9.11"
  }
 },
 "nbformat": 4,
 "nbformat_minor": 5
}
